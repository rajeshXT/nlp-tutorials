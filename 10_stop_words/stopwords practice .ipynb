{
 "cells": [
  {
   "cell_type": "code",
   "execution_count": 39,
   "id": "42e3b313",
   "metadata": {},
   "outputs": [],
   "source": [
    "import spacy \n",
    "import pandas as pd \n",
    "import numpy as np"
   ]
  },
  {
   "cell_type": "code",
   "execution_count": 52,
   "id": "46fdd6bd",
   "metadata": {},
   "outputs": [],
   "source": [
    "from spacy.lang.en.stop_words import STOP_WORDS"
   ]
  },
  {
   "cell_type": "code",
   "execution_count": 41,
   "id": "e2d8e36b",
   "metadata": {},
   "outputs": [
    {
     "data": {
      "text/plain": [
       "326"
      ]
     },
     "execution_count": 41,
     "metadata": {},
     "output_type": "execute_result"
    }
   ],
   "source": [
    "len(STOP_WORDS)"
   ]
  },
  {
   "cell_type": "code",
   "execution_count": 42,
   "id": "b57ed737",
   "metadata": {},
   "outputs": [],
   "source": [
    "nlp= spacy.load('en_core_web_sm')"
   ]
  },
  {
   "cell_type": "code",
   "execution_count": 43,
   "id": "bfcdd7fb",
   "metadata": {},
   "outputs": [],
   "source": [
    "text='''Indian-origin MP Rishi Sunak looks all set to become the next British Prime Minister as Boris Johnson, who was plotting a dramatic return to power, withdrew from the contest, saying although he had enough support to make the final ballot he realised the country and the Conservative Party needed unity.\n",
    "\n",
    "Rishi Sunak first became an MP in 2015. He was elected from Richmond, Yorkshire. Sunak quickly rose through the Conservative party ranks and backed calls for 'Brexit'. He was one of the supporters of Boris Johnson during his 'leave EU' campaign.'''\n",
    "doc= nlp(text)"
   ]
  },
  {
   "cell_type": "code",
   "execution_count": 44,
   "id": "ec713e72",
   "metadata": {},
   "outputs": [
    {
     "name": "stdout",
     "output_type": "stream",
     "text": [
      "all\n",
      "to\n",
      "become\n",
      "the\n",
      "next\n",
      "as\n",
      "who\n",
      "was\n",
      "a\n",
      "to\n",
      "from\n",
      "the\n",
      "although\n",
      "he\n",
      "had\n",
      "enough\n",
      "to\n",
      "make\n",
      "the\n",
      "he\n",
      "the\n",
      "and\n",
      "the\n",
      "first\n",
      "became\n",
      "an\n",
      "in\n",
      "He\n",
      "was\n",
      "from\n",
      "through\n",
      "the\n",
      "and\n",
      "for\n",
      "He\n",
      "was\n",
      "one\n",
      "of\n",
      "the\n",
      "of\n",
      "during\n",
      "his\n"
     ]
    }
   ],
   "source": [
    "for token in doc:\n",
    "    if token.is_stop:\n",
    "        print(token)"
   ]
  },
  {
   "cell_type": "code",
   "execution_count": 45,
   "id": "cc230bea",
   "metadata": {},
   "outputs": [],
   "source": [
    "def preprocess(text):\n",
    "    doc=nlp(text)\n",
    "    no_stop_word = [token.text for token in doc if not token.is_stop and not token.is_punct]\n",
    "    return ' '.join(no_stop_word)\n"
   ]
  },
  {
   "cell_type": "code",
   "execution_count": 46,
   "id": "c5f06017",
   "metadata": {},
   "outputs": [
    {
     "data": {
      "text/plain": [
       "'Indian origin MP Rishi Sunak looks set British Prime Minister Boris Johnson plotting dramatic return power withdrew contest saying support final ballot realised country Conservative Party needed unity \\n\\n Rishi Sunak MP 2015 elected Richmond Yorkshire Sunak quickly rose Conservative party ranks backed calls Brexit supporters Boris Johnson leave EU campaign'"
      ]
     },
     "execution_count": 46,
     "metadata": {},
     "output_type": "execute_result"
    }
   ],
   "source": [
    "preprocess(text)\n"
   ]
  },
  {
   "cell_type": "code",
   "execution_count": null,
   "id": "56eb1551",
   "metadata": {},
   "outputs": [],
   "source": []
  },
  {
   "cell_type": "code",
   "execution_count": null,
   "id": "cead2a8d",
   "metadata": {},
   "outputs": [],
   "source": []
  },
  {
   "cell_type": "code",
   "execution_count": 47,
   "id": "0e477e79",
   "metadata": {},
   "outputs": [
    {
     "data": {
      "text/html": [
       "<div>\n",
       "<style scoped>\n",
       "    .dataframe tbody tr th:only-of-type {\n",
       "        vertical-align: middle;\n",
       "    }\n",
       "\n",
       "    .dataframe tbody tr th {\n",
       "        vertical-align: top;\n",
       "    }\n",
       "\n",
       "    .dataframe thead th {\n",
       "        text-align: right;\n",
       "    }\n",
       "</style>\n",
       "<table border=\"1\" class=\"dataframe\">\n",
       "  <thead>\n",
       "    <tr style=\"text-align: right;\">\n",
       "      <th></th>\n",
       "      <th>id</th>\n",
       "      <th>title</th>\n",
       "      <th>contents</th>\n",
       "      <th>date</th>\n",
       "      <th>topics</th>\n",
       "      <th>components</th>\n",
       "    </tr>\n",
       "  </thead>\n",
       "  <tbody>\n",
       "    <tr>\n",
       "      <th>0</th>\n",
       "      <td>None</td>\n",
       "      <td>Convicted Bomb Plotter Sentenced to 30 Years</td>\n",
       "      <td>PORTLAND, Oregon. – Mohamed Osman Mohamud, 23,...</td>\n",
       "      <td>2014-10-01T00:00:00-04:00</td>\n",
       "      <td>[]</td>\n",
       "      <td>[National Security Division (NSD)]</td>\n",
       "    </tr>\n",
       "    <tr>\n",
       "      <th>1</th>\n",
       "      <td>12-919</td>\n",
       "      <td>$1 Million in Restitution Payments Announced t...</td>\n",
       "      <td>WASHINGTON – North Carolina’s Waccamaw River...</td>\n",
       "      <td>2012-07-25T00:00:00-04:00</td>\n",
       "      <td>[]</td>\n",
       "      <td>[Environment and Natural Resources Division]</td>\n",
       "    </tr>\n",
       "    <tr>\n",
       "      <th>2</th>\n",
       "      <td>11-1002</td>\n",
       "      <td>$1 Million Settlement Reached for Natural Reso...</td>\n",
       "      <td>BOSTON– A $1-million settlement has been...</td>\n",
       "      <td>2011-08-03T00:00:00-04:00</td>\n",
       "      <td>[]</td>\n",
       "      <td>[Environment and Natural Resources Division]</td>\n",
       "    </tr>\n",
       "    <tr>\n",
       "      <th>3</th>\n",
       "      <td>10-015</td>\n",
       "      <td>10 Las Vegas Men Indicted \\r\\nfor Falsifying V...</td>\n",
       "      <td>WASHINGTON—A federal grand jury in Las Vegas...</td>\n",
       "      <td>2010-01-08T00:00:00-05:00</td>\n",
       "      <td>[]</td>\n",
       "      <td>[Environment and Natural Resources Division]</td>\n",
       "    </tr>\n",
       "    <tr>\n",
       "      <th>4</th>\n",
       "      <td>18-898</td>\n",
       "      <td>$100 Million Settlement Will Speed Cleanup Wor...</td>\n",
       "      <td>The U.S. Department of Justice, the U.S. Envir...</td>\n",
       "      <td>2018-07-09T00:00:00-04:00</td>\n",
       "      <td>[Environment]</td>\n",
       "      <td>[Environment and Natural Resources Division]</td>\n",
       "    </tr>\n",
       "    <tr>\n",
       "      <th>...</th>\n",
       "      <td>...</td>\n",
       "      <td>...</td>\n",
       "      <td>...</td>\n",
       "      <td>...</td>\n",
       "      <td>...</td>\n",
       "      <td>...</td>\n",
       "    </tr>\n",
       "    <tr>\n",
       "      <th>13082</th>\n",
       "      <td>16-735</td>\n",
       "      <td>Yuengling to Upgrade Environmental Measures to...</td>\n",
       "      <td>The Department of Justice and the U.S. Environ...</td>\n",
       "      <td>2016-06-23T00:00:00-04:00</td>\n",
       "      <td>[Environment]</td>\n",
       "      <td>[Environment and Natural Resources Division]</td>\n",
       "    </tr>\n",
       "    <tr>\n",
       "      <th>13083</th>\n",
       "      <td>10-473</td>\n",
       "      <td>Zarein Ahmedzay Pleads Guilty to Terror Violat...</td>\n",
       "      <td>The Justice Department announced that Zarein...</td>\n",
       "      <td>2010-04-23T00:00:00-04:00</td>\n",
       "      <td>[]</td>\n",
       "      <td>[Office of the Attorney General]</td>\n",
       "    </tr>\n",
       "    <tr>\n",
       "      <th>13084</th>\n",
       "      <td>17-045</td>\n",
       "      <td>Zimmer Biomet Holdings Inc. Agrees to Pay $17....</td>\n",
       "      <td>Subsidiary Agrees to Plead Guilty to Violating...</td>\n",
       "      <td>2017-01-12T00:00:00-05:00</td>\n",
       "      <td>[Foreign Corruption]</td>\n",
       "      <td>[Criminal Division, Criminal - Criminal Fraud ...</td>\n",
       "    </tr>\n",
       "    <tr>\n",
       "      <th>13085</th>\n",
       "      <td>17-252</td>\n",
       "      <td>ZTE Corporation Agrees to Plead Guilty and Pay...</td>\n",
       "      <td>ZTE Corporation has agreed to enter a guilty p...</td>\n",
       "      <td>2017-03-07T00:00:00-05:00</td>\n",
       "      <td>[Asset Forfeiture, Counterintelligence and Exp...</td>\n",
       "      <td>[National Security Division (NSD), USAO - Texa...</td>\n",
       "    </tr>\n",
       "    <tr>\n",
       "      <th>13086</th>\n",
       "      <td>17-304</td>\n",
       "      <td>ZTE Corporation Pleads Guilty for  Violating U...</td>\n",
       "      <td>ZTE Corporation pleaded guilty today to conspi...</td>\n",
       "      <td>2017-03-22T00:00:00-04:00</td>\n",
       "      <td>[Counterintelligence and Export Control]</td>\n",
       "      <td>[National Security Division (NSD), USAO - Texa...</td>\n",
       "    </tr>\n",
       "  </tbody>\n",
       "</table>\n",
       "<p>13087 rows × 6 columns</p>\n",
       "</div>"
      ],
      "text/plain": [
       "            id                                              title  \\\n",
       "0         None       Convicted Bomb Plotter Sentenced to 30 Years   \n",
       "1      12-919   $1 Million in Restitution Payments Announced t...   \n",
       "2      11-1002  $1 Million Settlement Reached for Natural Reso...   \n",
       "3       10-015  10 Las Vegas Men Indicted \\r\\nfor Falsifying V...   \n",
       "4       18-898  $100 Million Settlement Will Speed Cleanup Wor...   \n",
       "...        ...                                                ...   \n",
       "13082   16-735  Yuengling to Upgrade Environmental Measures to...   \n",
       "13083   10-473  Zarein Ahmedzay Pleads Guilty to Terror Violat...   \n",
       "13084   17-045  Zimmer Biomet Holdings Inc. Agrees to Pay $17....   \n",
       "13085   17-252  ZTE Corporation Agrees to Plead Guilty and Pay...   \n",
       "13086   17-304  ZTE Corporation Pleads Guilty for  Violating U...   \n",
       "\n",
       "                                                contents  \\\n",
       "0      PORTLAND, Oregon. – Mohamed Osman Mohamud, 23,...   \n",
       "1        WASHINGTON – North Carolina’s Waccamaw River...   \n",
       "2            BOSTON– A $1-million settlement has been...   \n",
       "3        WASHINGTON—A federal grand jury in Las Vegas...   \n",
       "4      The U.S. Department of Justice, the U.S. Envir...   \n",
       "...                                                  ...   \n",
       "13082  The Department of Justice and the U.S. Environ...   \n",
       "13083    The Justice Department announced that Zarein...   \n",
       "13084  Subsidiary Agrees to Plead Guilty to Violating...   \n",
       "13085  ZTE Corporation has agreed to enter a guilty p...   \n",
       "13086  ZTE Corporation pleaded guilty today to conspi...   \n",
       "\n",
       "                            date  \\\n",
       "0      2014-10-01T00:00:00-04:00   \n",
       "1      2012-07-25T00:00:00-04:00   \n",
       "2      2011-08-03T00:00:00-04:00   \n",
       "3      2010-01-08T00:00:00-05:00   \n",
       "4      2018-07-09T00:00:00-04:00   \n",
       "...                          ...   \n",
       "13082  2016-06-23T00:00:00-04:00   \n",
       "13083  2010-04-23T00:00:00-04:00   \n",
       "13084  2017-01-12T00:00:00-05:00   \n",
       "13085  2017-03-07T00:00:00-05:00   \n",
       "13086  2017-03-22T00:00:00-04:00   \n",
       "\n",
       "                                                  topics  \\\n",
       "0                                                     []   \n",
       "1                                                     []   \n",
       "2                                                     []   \n",
       "3                                                     []   \n",
       "4                                          [Environment]   \n",
       "...                                                  ...   \n",
       "13082                                      [Environment]   \n",
       "13083                                                 []   \n",
       "13084                               [Foreign Corruption]   \n",
       "13085  [Asset Forfeiture, Counterintelligence and Exp...   \n",
       "13086           [Counterintelligence and Export Control]   \n",
       "\n",
       "                                              components  \n",
       "0                     [National Security Division (NSD)]  \n",
       "1           [Environment and Natural Resources Division]  \n",
       "2           [Environment and Natural Resources Division]  \n",
       "3           [Environment and Natural Resources Division]  \n",
       "4           [Environment and Natural Resources Division]  \n",
       "...                                                  ...  \n",
       "13082       [Environment and Natural Resources Division]  \n",
       "13083                   [Office of the Attorney General]  \n",
       "13084  [Criminal Division, Criminal - Criminal Fraud ...  \n",
       "13085  [National Security Division (NSD), USAO - Texa...  \n",
       "13086  [National Security Division (NSD), USAO - Texa...  \n",
       "\n",
       "[13087 rows x 6 columns]"
      ]
     },
     "execution_count": 47,
     "metadata": {},
     "output_type": "execute_result"
    }
   ],
   "source": [
    "df=pd.read_json(\"doj_press.json\",lines=True)\n",
    "df"
   ]
  },
  {
   "cell_type": "code",
   "execution_count": 48,
   "id": "a97d5d7a",
   "metadata": {},
   "outputs": [
    {
     "data": {
      "text/plain": [
       "False    8399\n",
       "True     4688\n",
       "Name: topics, dtype: int64"
      ]
     },
     "execution_count": 48,
     "metadata": {},
     "output_type": "execute_result"
    }
   ],
   "source": [
    "func= lambda x : len(x) !=0 \n",
    "df[\"topics\"].apply(func).value_counts()"
   ]
  },
  {
   "cell_type": "code",
   "execution_count": 49,
   "id": "e56d5adc",
   "metadata": {},
   "outputs": [],
   "source": [
    "df=df[df[\"topics\"].apply(func)]"
   ]
  },
  {
   "cell_type": "code",
   "execution_count": 50,
   "id": "4a19c739",
   "metadata": {},
   "outputs": [
    {
     "name": "stderr",
     "output_type": "stream",
     "text": [
      "C:\\Users\\rajes\\AppData\\Local\\Temp\\ipykernel_21620\\3434474672.py:1: SettingWithCopyWarning: \n",
      "A value is trying to be set on a copy of a slice from a DataFrame.\n",
      "Try using .loc[row_indexer,col_indexer] = value instead\n",
      "\n",
      "See the caveats in the documentation: https://pandas.pydata.org/pandas-docs/stable/user_guide/indexing.html#returning-a-view-versus-a-copy\n",
      "  df['contents_modified']=df[\"contents\"].apply(preprocess)\n"
     ]
    },
    {
     "data": {
      "text/plain": [
       "4        U.S. Department Justice U.S. Environmental Pro...\n",
       "7        131 count criminal indictment unsealed today B...\n",
       "19       United States Attorney Office Middle District ...\n",
       "22       21st Century Oncology LLC agreed pay $ 19.75 m...\n",
       "23       21st Century Oncology Inc. certain subsidiarie...\n",
       "                               ...                        \n",
       "13081    Anthony Merrell Tyler 34 Yuba City California ...\n",
       "13082    Department Justice U.S. Environmental Protecti...\n",
       "13084    Subsidiary Agrees Plead Guilty Violating Forei...\n",
       "13085    ZTE Corporation agreed enter guilty plea pay $...\n",
       "13086    ZTE Corporation pleaded guilty today conspirin...\n",
       "Name: contents_modified, Length: 4688, dtype: object"
      ]
     },
     "execution_count": 50,
     "metadata": {},
     "output_type": "execute_result"
    }
   ],
   "source": [
    "df['contents_modified']=df[\"contents\"].apply(preprocess)\n",
    "df.contents_modified"
   ]
  },
  {
   "cell_type": "code",
   "execution_count": 51,
   "id": "307e34ed",
   "metadata": {},
   "outputs": [
    {
     "data": {
      "text/plain": [
       "(4688, 7)"
      ]
     },
     "execution_count": 51,
     "metadata": {},
     "output_type": "execute_result"
    }
   ],
   "source": [
    "df.shape "
   ]
  },
  {
   "cell_type": "code",
   "execution_count": 53,
   "id": "2c685a55",
   "metadata": {},
   "outputs": [
    {
     "data": {
      "text/plain": [
       "'21st Century Oncology Inc. and certain of its subsidiaries and affiliates have agreed to pay $26 million to the government to resolve a self-disclosure relating to the submission of false attestations regarding the company’s use of electronic health records software and separate allegations that they violated the False Claims Act by submitting, or causing the submission of, claims for certain services provided pursuant to referrals from physicians with whom they had improper financial relationships. \\xa0 “The Justice Department is committed to zealously investigating improper financial relationships that have the potential to compromise physicians’ medical judgment,” said Acting Assistant Attorney General Chad A. Readler of the Justice Department’s Civil Division.\\xa0 “However, we will work with companies that accept responsibility for their past compliance failures and promptly take corrective action.”  \\xa0 21st Century Oncology, which is headquartered in Fort Myers, Florida, owns and operates subsidiaries and affiliates throughout the United States that provide integrated cancer care.\\xa0 As part of its business, 21st Century Oncology’s subsidiaries and affiliates employ physicians in specialty fields such as radiation oncology, medical oncology, and urology.\\xa0  \\xa0 The settlement announced today resolves conduct that was self-disclosed by the company regarding payments made by the government as part of the Medicare Electronic Health Records (EHR) Incentive Program.\\xa0 Under the Medicare EHR Incentive Program, physicians who attest to their meaningful use of certified EHR technology may receive incentive payments and avoid downward adjustments to certain Medicare claims.\\xa0 As part of its self-disclosure, 21st Century Oncology reported that it knowingly submitted, or caused the submission of, false attestations to CMS concerning employed physicians’ use of EHR software.\\xa0 The company further reported that, in support of the attestations, its employees falsified data regarding the company’s use of EHR software, fabricated software utilization reports, and superimposed EHR vendor logos onto the reports to make them look legitimate.\\xa0  \\xa0 “This settlement represents our office’s continued commitment to ensuring compliance with important federal health care laws,” said Acting U.S. Attorney Stephen Muldrow of the Middle District of Florida.\\xa0 “We appreciate that 21st Century Oncology self-reported a major fraud affecting Medicare, and we are also pleased that the company has agreed to accept financial responsibility for past compliance failures.” \\xa0 The settlement also resolves the government’s allegations regarding violations of the physician self-referral law (commonly referred to as the “Stark Law.”)\\xa0 The Stark Law prohibits an entity from submitting claims to Medicare for designated health services performed pursuant to referrals from physicians with whom the entity has a financial relationship unless certain designated exceptions apply.\\xa0 The government alleged that 21st Century Oncology and certain of its subsidiaries and affiliates violated the FCA by submitting, or causing the submission of, claims for services performed pursuant to referrals from physicians whose compensation did not satisfy any exception to the Stark Law. \\xa0 The Stark Law allegations were originally brought in a lawsuit filed by Matthew Moore, 21st Century Oncology’s former Interim Vice President of Financial Planning, under the qui tam provisions of the False Claims Act.\\xa0 Under the Act, private parties may bring suit on behalf of the government and share in any recovery.\\xa0 Mr. Moore will receive $2,000,000 as his share of the recovery associated with the Stark Law allegations. \\xa0 In addition to the civil settlement, 21st Century Oncology has entered into a new five-year Corporate Integrity Agreement with the Office of Inspector General of the United States Department of Health and Human Services (HHS-OIG), which obligates 21st Century Oncology to undertake substantial internal compliance reforms, including hiring independent review organizations to conduct annual claims and arrangements reviews.\\xa0 \\xa0 “21st Century Oncology admitted to causing violation of the meaningful use regulations in order to fund an electronic health records system, as well as falsifying records to cover up those actions,” said Shimon R. Richmond, Special Agent in Charge for the Office of Inspector General of the U.S. Department of Health and Human Services.\\xa0 “Separately, the government alleged that same company, through its affiliates and subsidiaries, caused certain physicians to enter into illegal financial arrangements.\\xa0 Providers engaging in similar behavior should expect attention from OIG.”\\xa0\\xa0\\xa0 \\xa0 The government’s resolution of this matter illustrates the government’s emphasis on combating health care fraud.\\xa0 Tips and complaints from all sources about potential fraud, waste, abuse, and mismanagement can be reported to the Department of Health and Human Services at 900-HHS-TIPS (800-447-8477). \\xa0 The investigation was handled by the Civil Division’s Commercial Litigation Branch and the Fort Myers Division of\\xa0the U.S. Attorney’s Office for the Middle District of Florida, with assistance from the U.S. Attorney’s Office for the Southern District of New York and HHS-OIG.\\xa0 The claims resolved by this settlement are allegations only; there has been no determination of liability.\\xa0 The case is captioned United States ex rel. Moore v. 21st Century Oncology, LLC, No. 2:16-cv-99 (M.D. Fl.).'"
      ]
     },
     "execution_count": 53,
     "metadata": {},
     "output_type": "execute_result"
    }
   ],
   "source": [
    "df['contents'].iloc[4]"
   ]
  },
  {
   "cell_type": "code",
   "execution_count": 57,
   "id": "8a50e28b",
   "metadata": {},
   "outputs": [
    {
     "data": {
      "text/plain": [
       "[Tax]                                                                        706\n",
       "[Consumer Protection]                                                        335\n",
       "[Civil Rights]                                                               305\n",
       "[Antitrust]                                                                  292\n",
       "[Hate Crimes]                                                                246\n",
       "                                                                            ... \n",
       "[Tax, Health Care Fraud]                                                       1\n",
       "[Prescription Drugs, Consumer Protection, Health Care Fraud]                   1\n",
       "[Civil Rights, Firearms Offenses]                                              1\n",
       "[Antitrust, Financial Fraud, Securities, Commodities, & Investment Fraud]      1\n",
       "[Hate Crimes, Civil Rights]                                                    1\n",
       "Name: topics, Length: 252, dtype: int64"
      ]
     },
     "execution_count": 57,
     "metadata": {},
     "output_type": "execute_result"
    }
   ],
   "source": [
    "df[\"topics\"].value_counts()"
   ]
  },
  {
   "cell_type": "code",
   "execution_count": null,
   "id": "c7f57cc8",
   "metadata": {},
   "outputs": [],
   "source": []
  }
 ],
 "metadata": {
  "hide_input": false,
  "kernelspec": {
   "display_name": "Neuron",
   "language": "python",
   "name": "neuron"
  },
  "language_info": {
   "codemirror_mode": {
    "name": "ipython",
    "version": 3
   },
   "file_extension": ".py",
   "mimetype": "text/x-python",
   "name": "python",
   "nbconvert_exporter": "python",
   "pygments_lexer": "ipython3",
   "version": "3.10.4"
  },
  "nbTranslate": {
   "displayLangs": [
    "*"
   ],
   "hotkey": "alt-t",
   "langInMainMenu": true,
   "sourceLang": "en",
   "targetLang": "fr",
   "useGoogleTranslate": true
  },
  "toc": {
   "base_numbering": 1,
   "nav_menu": {},
   "number_sections": true,
   "sideBar": true,
   "skip_h1_title": false,
   "title_cell": "Table of Contents",
   "title_sidebar": "Contents",
   "toc_cell": false,
   "toc_position": {},
   "toc_section_display": true,
   "toc_window_display": false
  }
 },
 "nbformat": 4,
 "nbformat_minor": 5
}
